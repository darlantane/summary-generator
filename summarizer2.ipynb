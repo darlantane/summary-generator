{
 "cells": [
  {
   "cell_type": "code",
   "execution_count": 49,
   "id": "a780c2b5",
   "metadata": {},
   "outputs": [],
   "source": [
    "from wikipedia import page\n",
    "\n",
    "def wikipedia_article(topic):\n",
    "    return page(topic).content"
   ]
  },
  {
   "cell_type": "code",
   "execution_count": 50,
   "id": "ac4677c4",
   "metadata": {},
   "outputs": [],
   "source": [
    "import re\n",
    "\n",
    "def clean_text(raw_text):\n",
    "    text = re.sub(r'==.*?==+', '', raw_text)\n",
    "    text = re.sub(r'\\n+', '\\n', text)\n",
    "    return text.strip()"
   ]
  },
  {
   "cell_type": "code",
   "execution_count": 51,
   "id": "7979b145",
   "metadata": {},
   "outputs": [],
   "source": [
    "from transformers import pipeline\n",
    "import textwrap\n",
    "\n",
    "def summarize_text(text, model_name=\"facebook/bart-large-cnn\", max_chunk_length=1000, max_length=130, min_length=30):\n",
    "\n",
    "    summarizer = pipeline(\"summarization\", model=model_name)\n",
    "    chunks = textwrap.wrap(text, width=max_chunk_length)\n",
    "\n",
    "    summaries = []\n",
    "    for chunk in chunks:\n",
    "        summary = summarizer(chunk, max_length=max_length, min_length=min_length, do_sample=False)\n",
    "        summaries.append(summary[0]['summary_text'])\n",
    "\n",
    "    final_summary = \" \".join(summaries)\n",
    "    return final_summary"
   ]
  },
  {
   "cell_type": "code",
   "execution_count": 52,
   "id": "4e88e773",
   "metadata": {},
   "outputs": [],
   "source": [
    "from textblob import TextBlob\n",
    "\n",
    "def get_sentiment(text):\n",
    "    return TextBlob(text).sentiment.polarity\n",
    "    return TextBlob(final_summary).sentiment.polarity"
   ]
  },
  {
   "cell_type": "code",
   "execution_count": 53,
   "id": "e9151e08",
   "metadata": {},
   "outputs": [],
   "source": [
    "def compare_sentiments(original, summary):\n",
    "    sentiment_orig = get_sentiment(original)\n",
    "    sentiment_sum = get_sentiment(summary)\n",
    "    diff = abs(sentiment_orig - sentiment_sum)\n",
    "\n",
    "    print(\"=== Résultats ===\")\n",
    "    print(f\"Sentiment original : {sentiment_orig:.3f}\")\n",
    "    print(f\"Sentiment résumé   : {sentiment_sum:.3f}\")\n",
    "    print(f\"Différence          : {diff:.3f}\")"
   ]
  },
  {
   "cell_type": "code",
   "execution_count": null,
   "id": "e62ace11",
   "metadata": {},
   "outputs": [],
   "source": [
    "import pandas as pd\n",
    "\n",
    "def export_report(topic, original, summary):\n",
    "    data = {\n",
    "        \"Topic\": topic,\n",
    "        \"Original Length\": len(raw_text),\n",
    "        \"Summary Length\": len(final_summary),\n",
    "        \"Original Sentiment\": polarity_text,\n",
    "        \"Summary Sentiment\": polarity_summary\n",
    "    }\n",
    "\n",
    "    df = pd.DataFrame([data])\n",
    "    df.to_csv(f\"{topic.replace(' ', '_')}_report.csv\", index=False)"
   ]
  },
  {
   "cell_type": "code",
   "execution_count": 56,
   "id": "2b1ff188",
   "metadata": {},
   "outputs": [
    {
     "name": "stderr",
     "output_type": "stream",
     "text": [
      "Device set to use cpu\n",
      "Your max_length is set to 130, but your input_length is only 18. Since this is a summarization task, where outputs shorter than the input are typically wanted, you might consider decreasing max_length manually, e.g. summarizer('...', max_length=9)\n"
     ]
    },
    {
     "name": "stdout",
     "output_type": "stream",
     "text": [
      "=== Résultats ===\n",
      "Sentiment original : 0.070\n",
      "Sentiment résumé   : 0.066\n",
      "Différence          : 0.004\n"
     ]
    },
    {
     "ename": "NameError",
     "evalue": "name 'text' is not defined",
     "output_type": "error",
     "traceback": [
      "\u001b[1;31m---------------------------------------------------------------------------\u001b[0m",
      "\u001b[1;31mNameError\u001b[0m                                 Traceback (most recent call last)",
      "Cell \u001b[1;32mIn[56], line 8\u001b[0m\n\u001b[0;32m      5\u001b[0m summary \u001b[38;5;241m=\u001b[39m summarize_text(cleaned)\n\u001b[0;32m      7\u001b[0m compare_sentiments(cleaned, summary)\n\u001b[1;32m----> 8\u001b[0m export_report(topic, cleaned, summary)\n",
      "Cell \u001b[1;32mIn[54], line 6\u001b[0m, in \u001b[0;36mexport_report\u001b[1;34m(topic, original, summary)\u001b[0m\n\u001b[0;32m      3\u001b[0m \u001b[38;5;28;01mdef\u001b[39;00m \u001b[38;5;21mexport_report\u001b[39m(topic, original, summary):\n\u001b[0;32m      4\u001b[0m     data \u001b[38;5;241m=\u001b[39m {\n\u001b[0;32m      5\u001b[0m         \u001b[38;5;124m\"\u001b[39m\u001b[38;5;124mTopic\u001b[39m\u001b[38;5;124m\"\u001b[39m: topic,\n\u001b[1;32m----> 6\u001b[0m         \u001b[38;5;124m\"\u001b[39m\u001b[38;5;124mOriginal Length\u001b[39m\u001b[38;5;124m\"\u001b[39m: \u001b[38;5;28mlen\u001b[39m(text),\n\u001b[0;32m      7\u001b[0m         \u001b[38;5;124m\"\u001b[39m\u001b[38;5;124mSummary Length\u001b[39m\u001b[38;5;124m\"\u001b[39m: \u001b[38;5;28mlen\u001b[39m(final_summary),\n\u001b[0;32m      8\u001b[0m         \u001b[38;5;124m\"\u001b[39m\u001b[38;5;124mOriginal Sentiment\u001b[39m\u001b[38;5;124m\"\u001b[39m: polarity_text,\n\u001b[0;32m      9\u001b[0m         \u001b[38;5;124m\"\u001b[39m\u001b[38;5;124mSummary Sentiment\u001b[39m\u001b[38;5;124m\"\u001b[39m: polarity_summary\n\u001b[0;32m     10\u001b[0m     }\n\u001b[0;32m     12\u001b[0m     df \u001b[38;5;241m=\u001b[39m pd\u001b[38;5;241m.\u001b[39mDataFrame([data])\n\u001b[0;32m     13\u001b[0m     df\u001b[38;5;241m.\u001b[39mto_csv(\u001b[38;5;124mf\u001b[39m\u001b[38;5;124m\"\u001b[39m\u001b[38;5;132;01m{\u001b[39;00mtopic\u001b[38;5;241m.\u001b[39mreplace(\u001b[38;5;124m'\u001b[39m\u001b[38;5;124m \u001b[39m\u001b[38;5;124m'\u001b[39m,\u001b[38;5;250m \u001b[39m\u001b[38;5;124m'\u001b[39m\u001b[38;5;124m_\u001b[39m\u001b[38;5;124m'\u001b[39m)\u001b[38;5;132;01m}\u001b[39;00m\u001b[38;5;124m_report.csv\u001b[39m\u001b[38;5;124m\"\u001b[39m, index\u001b[38;5;241m=\u001b[39m\u001b[38;5;28;01mFalse\u001b[39;00m)\n",
      "\u001b[1;31mNameError\u001b[0m: name 'text' is not defined"
     ]
    }
   ],
   "source": [
    "topic = \"Climate change\"\n",
    "\n",
    "raw = wikipedia_article(topic)\n",
    "cleaned = clean_text(raw)\n",
    "summary = summarize_text(cleaned)\n",
    "\n",
    "compare_sentiments(cleaned, summary)\n",
    "export_report(topic, cleaned, summary)"
   ]
  }
 ],
 "metadata": {
  "kernelspec": {
   "display_name": "base",
   "language": "python",
   "name": "python3"
  },
  "language_info": {
   "codemirror_mode": {
    "name": "ipython",
    "version": 3
   },
   "file_extension": ".py",
   "mimetype": "text/x-python",
   "name": "python",
   "nbconvert_exporter": "python",
   "pygments_lexer": "ipython3",
   "version": "3.12.7"
  }
 },
 "nbformat": 4,
 "nbformat_minor": 5
}
